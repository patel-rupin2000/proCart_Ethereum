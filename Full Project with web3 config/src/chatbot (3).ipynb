{
  "nbformat": 4,
  "nbformat_minor": 0,
  "metadata": {
    "colab": {
      "name": "Untitled1.ipynb",
      "provenance": []
    },
    "kernelspec": {
      "name": "python3",
      "display_name": "Python 3"
    },
    "language_info": {
      "name": "python"
    }
  },
  "cells": [
    {
      "cell_type": "code",
      "metadata": {
        "colab": {
          "base_uri": "https://localhost:8080/"
        },
        "id": "wTcYCuOvTJqY",
        "outputId": "13774b05-cd77-45a1-9052-4d67708cb9f9"
      },
      "source": [
        "pip install nltk"
      ],
      "execution_count": null,
      "outputs": [
        {
          "output_type": "stream",
          "text": [
            "Requirement already satisfied: nltk in /usr/local/lib/python3.7/dist-packages (3.2.5)\n",
            "Requirement already satisfied: six in /usr/local/lib/python3.7/dist-packages (from nltk) (1.15.0)\n"
          ],
          "name": "stdout"
        }
      ]
    },
    {
      "cell_type": "code",
      "metadata": {
        "colab": {
          "base_uri": "https://localhost:8080/"
        },
        "id": "qv1KYa7ITV5e",
        "outputId": "4e9285e1-3d43-4baa-cf1e-e9ffb1d68ac1"
      },
      "source": [
        "pip install newspaper3k\n"
      ],
      "execution_count": null,
      "outputs": [
        {
          "output_type": "stream",
          "text": [
            "Requirement already satisfied: newspaper3k in /usr/local/lib/python3.7/dist-packages (0.2.8)\n",
            "Requirement already satisfied: tldextract>=2.0.1 in /usr/local/lib/python3.7/dist-packages (from newspaper3k) (3.1.0)\n",
            "Requirement already satisfied: lxml>=3.6.0 in /usr/local/lib/python3.7/dist-packages (from newspaper3k) (4.2.6)\n",
            "Requirement already satisfied: python-dateutil>=2.5.3 in /usr/local/lib/python3.7/dist-packages (from newspaper3k) (2.8.1)\n",
            "Requirement already satisfied: feedparser>=5.2.1 in /usr/local/lib/python3.7/dist-packages (from newspaper3k) (6.0.2)\n",
            "Requirement already satisfied: Pillow>=3.3.0 in /usr/local/lib/python3.7/dist-packages (from newspaper3k) (7.1.2)\n",
            "Requirement already satisfied: tinysegmenter==0.3 in /usr/local/lib/python3.7/dist-packages (from newspaper3k) (0.3)\n",
            "Requirement already satisfied: feedfinder2>=0.0.4 in /usr/local/lib/python3.7/dist-packages (from newspaper3k) (0.0.4)\n",
            "Requirement already satisfied: beautifulsoup4>=4.4.1 in /usr/local/lib/python3.7/dist-packages (from newspaper3k) (4.6.3)\n",
            "Requirement already satisfied: PyYAML>=3.11 in /usr/local/lib/python3.7/dist-packages (from newspaper3k) (3.13)\n",
            "Requirement already satisfied: jieba3k>=0.35.1 in /usr/local/lib/python3.7/dist-packages (from newspaper3k) (0.35.1)\n",
            "Requirement already satisfied: requests>=2.10.0 in /usr/local/lib/python3.7/dist-packages (from newspaper3k) (2.23.0)\n",
            "Requirement already satisfied: nltk>=3.2.1 in /usr/local/lib/python3.7/dist-packages (from newspaper3k) (3.2.5)\n",
            "Requirement already satisfied: cssselect>=0.9.2 in /usr/local/lib/python3.7/dist-packages (from newspaper3k) (1.1.0)\n",
            "Requirement already satisfied: requests-file>=1.4 in /usr/local/lib/python3.7/dist-packages (from tldextract>=2.0.1->newspaper3k) (1.5.1)\n",
            "Requirement already satisfied: filelock>=3.0.8 in /usr/local/lib/python3.7/dist-packages (from tldextract>=2.0.1->newspaper3k) (3.0.12)\n",
            "Requirement already satisfied: idna in /usr/local/lib/python3.7/dist-packages (from tldextract>=2.0.1->newspaper3k) (2.10)\n",
            "Requirement already satisfied: six>=1.5 in /usr/local/lib/python3.7/dist-packages (from python-dateutil>=2.5.3->newspaper3k) (1.15.0)\n",
            "Requirement already satisfied: sgmllib3k in /usr/local/lib/python3.7/dist-packages (from feedparser>=5.2.1->newspaper3k) (1.0.0)\n",
            "Requirement already satisfied: urllib3!=1.25.0,!=1.25.1,<1.26,>=1.21.1 in /usr/local/lib/python3.7/dist-packages (from requests>=2.10.0->newspaper3k) (1.24.3)\n",
            "Requirement already satisfied: chardet<4,>=3.0.2 in /usr/local/lib/python3.7/dist-packages (from requests>=2.10.0->newspaper3k) (3.0.4)\n",
            "Requirement already satisfied: certifi>=2017.4.17 in /usr/local/lib/python3.7/dist-packages (from requests>=2.10.0->newspaper3k) (2020.12.5)\n"
          ],
          "name": "stdout"
        }
      ]
    },
    {
      "cell_type": "code",
      "metadata": {
        "id": "rUD_AD0TTcyd"
      },
      "source": [
        "from newspaper import Article\n",
        "import random\n",
        "import string\n",
        "import nltk\n",
        "from sklearn.feature_extraction.text import CountVectorizer\n",
        "from sklearn.metrics.pairwise import cosine_similarity\n",
        "import numpy as np\n",
        "import warnings\n",
        "warnings.filterwarnings('ignore')"
      ],
      "execution_count": null,
      "outputs": []
    },
    {
      "cell_type": "code",
      "metadata": {
        "colab": {
          "base_uri": "https://localhost:8080/"
        },
        "id": "xVctyEBETng6",
        "outputId": "cfd039f9-6dad-4055-bb71-fe33ad3c99e4"
      },
      "source": [
        "nltk.download('punkt',quiet=True)"
      ],
      "execution_count": null,
      "outputs": [
        {
          "output_type": "execute_result",
          "data": {
            "text/plain": [
              "True"
            ]
          },
          "metadata": {
            "tags": []
          },
          "execution_count": 19
        }
      ]
    },
    {
      "cell_type": "code",
      "metadata": {
        "id": "1VHrla8NTp1i"
      },
      "source": [
        "def greeting_response(text):\n",
        "  text=text.lower()\n",
        "  bot_greetings=['Hi, Whats your name?','Hey, Whats your name?','Hello, Whats your name?']\n",
        "  user_greetings=['hi','hey','hello']\n",
        "  for word in text.split():\n",
        "    if word in user_greetings:\n",
        "      return random.choice(bot_greetings)\n",
        "  \n",
        "  bot_greetings=['Hello! Nice to meet you.']\n",
        "  user_greetings=['shresth','nikhar','deepak','rupin']\n",
        "  for word in text.split():\n",
        "    if word in user_greetings:\n",
        "      return random.choice(bot_greetings)\n",
        "  \n",
        "  bot_greetings=['Ethereum is a decentralized, open-source blockchain with smart contract functionality. Ether is the native cryptocurrency of the platform. It is the second-largest cryptocurrency by market capitalization, after Bitcoin. Ethereum is the most actively used blockchain.']\n",
        "  user_greetings=['what is ethereum','ethereum']\n",
        "  for word in text.split():\n",
        "    if word in user_greetings:\n",
        "      return random.choice(bot_greetings)\n",
        "\n",
        "  bot_greetings=['Open the MetaMask extension. Hover over the account name at the top of the window, which will display “Copy to clipboar\".Click on the account name to copy your address. Paste your address in the “recipient” field of the application from where you will be sending your ETH or tokens. Select the amount you want to send, along with any other necessary steps to complete and submit the transaction.']\n",
        "  user_greetings=['payment','pay','metamask']\n",
        "  for word in text.split():\n",
        "    if word in user_greetings:\n",
        "      return random.choice(bot_greetings)\n"
      ],
      "execution_count": null,
      "outputs": []
    },
    {
      "cell_type": "code",
      "metadata": {
        "id": "tQqa5M1WWrkl"
      },
      "source": [
        "def index_sort(list_var):\n",
        "  length=len(list_var)\n",
        "  list_index=list(range(0, length))\n",
        "\n",
        "  x=list_var\n",
        "  for i in range(length):\n",
        "    for j in range(length):\n",
        "      if x[list_index[i]]> x[list_index[j]]:\n",
        "        temp=list_index[i]\n",
        "        list_index[i]=list_index[j]\n",
        "        list_index[j]=temp\n",
        "  return list_index"
      ],
      "execution_count": null,
      "outputs": []
    },
    {
      "cell_type": "code",
      "metadata": {
        "id": "ZgZQZfI2WwpM"
      },
      "source": [
        "def bot_response(user_input):\n",
        "  user_input =user_input.lower()\n",
        "  sentence_list.append(user_input)\n",
        "  bot_response= ''\n",
        "  cm=CountVectorizer().fit_transform(sentence_list)\n",
        "  similarity_scores=cosine_similarity(cm[-1], cm)\n",
        "  similarity_scores_list =similarity_scores.flatten()\n",
        "  index= index_sort(similarity_scores_list)\n",
        "  index=index[1:]\n",
        "  response_flag=0\n",
        "\n",
        "  j=0\n",
        "  for i in range(len(index)):\n",
        "    if similarity_scores_list[index[i]]>0.0:\n",
        "      bot_response=bot_response+' '+sentence_list[index[i]]\n",
        "      response_flag=1\n",
        "      j=j+1\n",
        "    if j>2:\n",
        "      break\n",
        "  if response_flag==0:\n",
        "      bot_response=bot_response+' '+\"I apologize I don't know.\"\n",
        "  \n",
        "  sentence_list.remove(user_input)\n",
        "\n",
        "  return bot_response"
      ],
      "execution_count": null,
      "outputs": []
    },
    {
      "cell_type": "code",
      "metadata": {
        "colab": {
          "base_uri": "https://localhost:8080/"
        },
        "id": "CXECXSSSW6Au",
        "outputId": "cad98de2-a057-43e7-93ee-006169d39955"
      },
      "source": [
        "print('Chat_Bot: I will ans your Ethereum related queries')\n",
        "\n",
        "exit_list=['ok','bye','thanks']\n",
        "\n",
        "while(True):\n",
        "  print('Me: ') \n",
        "  user_input=input()\n",
        "  if user_input.lower() in exit_list:\n",
        "    print('Chat_Bot: Bye, chat with you later!')\n",
        "    break;\n",
        "  else:\n",
        "    if greeting_response(user_input)!=None:\n",
        "      print(\"Chat_Bot: \"+greeting_response(user_input))\n",
        "    else:\n",
        "      print('Chat_Bot: '+bot_response(user_input))\n"
      ],
      "execution_count": null,
      "outputs": [
        {
          "output_type": "stream",
          "text": [
            "Chat_Bot: I will ans your Ethereum related queries\n",
            "Me: \n",
            "ethereum\n",
            "Chat_Bot: Ethereum is a decentralized, open-source blockchain with smart contract functionality. Ether is the native cryptocurrency of the platform. It is the second-largest cryptocurrency by market capitalization, after Bitcoin. Ethereum is the most actively used blockchain.\n",
            "Me: \n",
            "payment\n",
            "Chat_Bot: Open the MetaMask extension. Hover over the account name at the top of the window, which will display “Copy to clipboar\".Click on the account name to copy your address. Paste your address in the “recipient” field of the application from where you will be sending your ETH or tokens. Select the amount you want to send, along with any other necessary steps to complete and submit the transaction.\n",
            "Me: \n",
            "bye\n",
            "Chat_Bot: Bye, chat with you later!\n"
          ],
          "name": "stdout"
        }
      ]
    }
  ]
}